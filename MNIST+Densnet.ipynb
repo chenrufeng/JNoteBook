{
  "cells": [
    {
      "cell_type": "markdown",
      "metadata": {
        "colab_type": "text",
        "id": "view-in-github"
      },
      "source": [
        "<a href=\"https://colab.research.google.com/github/chenrufeng/JNoteBook/blob/master/MNIST%2BDensnet.ipynb\" target=\"_parent\"><img src=\"https://colab.research.google.com/assets/colab-badge.svg\" alt=\"Open In Colab\"/></a>"
      ]
    },
    {
      "cell_type": "code",
      "execution_count": 1,
      "metadata": {
        "colab": {},
        "colab_type": "code",
        "id": "UShNtltrLVby"
      },
      "outputs": [],
      "source": [
        "from __future__ import print_function\n",
        "import argparse\n",
        "import torch\n",
        "import torch.nn as nn\n",
        "import torch.nn.functional as F\n",
        "import torch.optim as optim\n",
        "from torchvision import datasets, transforms"
      ]
    },
    {
      "cell_type": "code",
      "execution_count": 2,
      "metadata": {
        "colab": {},
        "colab_type": "code",
        "id": "uhdHna0sLYQh"
      },
      "outputs": [],
      "source": [
        "class pytorch_Net(nn.Module):\n",
        "    def __init__(self):\n",
        "        super(pytorch_Net, self).__init__()\n",
        "        self.num_channels = 1\n",
        "        self.image_size = 28\n",
        "        self.num_labels = 10\n",
        "        self.conv2d_1 = nn.Conv2d(1, 32, 3, 1)\n",
        "        self.conv2d_2 = nn.Conv2d(32, 32, 3, 1)\n",
        "        self.conv2d_3 = nn.Conv2d(32, 64, 3, 1)\n",
        "        self.conv2d_4 = nn.Conv2d(64, 64, 3, 1)\n",
        "\n",
        "        self.dense_1 = nn.Linear(4 * 4 * 64, 200)\n",
        "        self.dense_2 = nn.Linear(200, 200)\n",
        "        self.dense_3 = nn.Linear(200, 10)\n",
        "\n",
        "\n",
        "    def forward(self, x):\n",
        "        x = F.relu(self.conv2d_1(x))\n",
        "        x = F.relu(self.conv2d_2(x))\n",
        "        x = F.max_pool2d(x, 2, 2)\n",
        "        x = F.relu(self.conv2d_3(x))\n",
        "        x = F.relu(self.conv2d_4(x))\n",
        "        x = F.max_pool2d(x, 2, 2)\n",
        "        x = x.permute((0, 2, 3, 1))\n",
        "\n",
        "        x = x.contiguous().view(-1, 4 * 4 * 64)\n",
        "        x = x.view(-1, 4 * 4 * 64)\n",
        "        x = F.relu(self.dense_1(x))\n",
        "        x = F.relu(self.dense_2(x))\n",
        "        x = self.dense_3(x)\n",
        "        return F.log_softmax(x, dim=1)"
      ]
    },
    {
      "cell_type": "code",
      "execution_count": 3,
      "metadata": {
        "colab": {},
        "colab_type": "code",
        "id": "rl6D9xgILb6y"
      },
      "outputs": [],
      "source": [
        "class pytorch_keras_Net(nn.Module):\n",
        "    def __init__(self):\n",
        "        super(pytorch_keras_Net, self).__init__()\n",
        "        self.num_channels = 1\n",
        "        self.image_size = 28\n",
        "        self.num_labels = 10\n",
        "        self.conv2d_1 = nn.Conv2d(1, 32, 3, 1)\n",
        "        self.conv2d_2 = nn.Conv2d(32, 32, 3, 1)\n",
        "        self.conv2d_3 = nn.Conv2d(32, 64, 3, 1)\n",
        "        self.conv2d_4 = nn.Conv2d(64, 64, 3, 1)\n",
        "\n",
        "        self.dense_1 = nn.Linear(4 * 4 * 64, 200)\n",
        "        self.dense_2 = nn.Linear(200, 200)\n",
        "        self.dense_3 = nn.Linear(200, 10)\n",
        "\n",
        "\n",
        "    def forward(self, x):\n",
        "        x = F.relu(self.conv2d_1(x))\n",
        "        x = F.relu(self.conv2d_2(x))\n",
        "        x = F.max_pool2d(x, 2, 2)\n",
        "        x = F.relu(self.conv2d_3(x))\n",
        "        x = F.relu(self.conv2d_4(x))\n",
        "        x = F.max_pool2d(x, 2, 2)\n",
        "        x = x.permute((0, 2, 3, 1))\n",
        "\n",
        "        x = x.contiguous().view(-1, 4 * 4 * 64)\n",
        "        x = x.view(-1, 4 * 4 * 64)\n",
        "        x = F.relu(self.dense_1(x))\n",
        "        x = F.relu(self.dense_2(x))\n",
        "        x = self.dense_3(x)\n",
        "        return F.log_softmax(x, dim=1)"
      ]
    },
    {
      "cell_type": "code",
      "execution_count": 4,
      "metadata": {
        "colab": {},
        "colab_type": "code",
        "id": "906PrhldLjfR"
      },
      "outputs": [],
      "source": [
        "def test(args, model, device, test_loader):\n",
        "    model.eval()\n",
        "    test_loss = 0\n",
        "    correct = 0\n",
        "    with torch.no_grad():\n",
        "        for data, target in test_loader:\n",
        "            data, target = data.to(device), target.to(device)\n",
        "            # print(\"______data.shape:\", data.shape)\n",
        "            output = model(data)\n",
        "            test_loss += F.nll_loss(output, target, reduction='sum').item()  # sum up batch loss\n",
        "            pred = output.argmax(dim=1, keepdim=True)  # get the index of the max log-probability\n",
        "            correct += pred.eq(target.view_as(pred)).sum().item()\n",
        "\n",
        "    test_loss /= len(test_loader.dataset)\n",
        "\n",
        "    print('\\nTest set: Average loss: {:.4f}, Accuracy: {}/{} ({:.0f}%)\\n'.format(\n",
        "        test_loss, correct, len(test_loader.dataset),\n",
        "        100. * correct / len(test_loader.dataset)))"
      ]
    },
    {
      "cell_type": "code",
      "execution_count": 5,
      "metadata": {
        "colab": {},
        "colab_type": "code",
        "id": "i5MgZ7zhLgCR"
      },
      "outputs": [],
      "source": [
        "def train(args, model, device, train_loader, optimizer, epoch):\n",
        "    model.train()\n",
        "    for batch_idx, (data, target) in enumerate(train_loader):\n",
        "        data, target = data.to(device), target.to(device)\n",
        "        optimizer.zero_grad()\n",
        "        output = model(data)\n",
        "        loss = F.nll_loss(output, target)\n",
        "        loss.backward()\n",
        "        optimizer.step()\n",
        "        if batch_idx % args.log_interval == 0:\n",
        "            print('Train Epoch: {} [{}/{} ({:.0f}%)]\\tLoss: {:.6f}'.format(\n",
        "                epoch, batch_idx * len(data), len(train_loader.dataset),\n",
        "                       100. * batch_idx / len(train_loader), loss.item()))"
      ]
    },
    {
      "cell_type": "code",
      "execution_count": 6,
      "metadata": {
        "colab": {
          "base_uri": "https://localhost:8080/",
          "height": 53
        },
        "colab_type": "code",
        "id": "uMzmtuLnMoRD",
        "outputId": "cf15978f-e9c4-4e4b-ec1b-50bcd9700c4d"
      },
      "outputs": [
        {
          "name": "stdout",
          "output_type": "stream",
          "text": [
            "<class '__main__.args'>\n",
            "False\n"
          ]
        }
      ],
      "source": [
        "class args:\n",
        "\tload_keras= False\n",
        "\tbatch_size=64\n",
        "\ttest_batch_size=1000\n",
        "\tepochs=10\n",
        "\tlr=0.01\n",
        "\tmomentum=0.5\n",
        "\tno_cuda=False\n",
        "\tseed=1\n",
        "\tlog_interval=100\n",
        "\tsave_model=True\n",
        "print(args)\n",
        "print(args.no_cuda)"
      ]
    },
    {
      "cell_type": "code",
      "execution_count": 7,
      "metadata": {
        "colab": {
          "base_uri": "https://localhost:8080/",
          "height": 593
        },
        "colab_type": "code",
        "id": "Rs4fMrEPLUKE",
        "outputId": "01cbe48e-a7ce-4501-8341-47df3ccb5586"
      },
      "outputs": [
        {
          "name": "stdout",
          "output_type": "stream",
          "text": [
            "Downloading http://yann.lecun.com/exdb/mnist/train-images-idx3-ubyte.gz\n",
            "Downloading http://yann.lecun.com/exdb/mnist/train-images-idx3-ubyte.gz to ../data\\MNIST\\raw\\train-images-idx3-ubyte.gz\n"
          ]
        },
        {
          "data": {
            "application/vnd.jupyter.widget-view+json": {
              "model_id": "4eebc1d999b44616a1657e03abf36eeb",
              "version_major": 2,
              "version_minor": 0
            },
            "text/plain": [
              "  0%|          | 0/9912422 [00:00<?, ?it/s]"
            ]
          },
          "metadata": {},
          "output_type": "display_data"
        },
        {
          "name": "stdout",
          "output_type": "stream",
          "text": [
            "Extracting ../data\\MNIST\\raw\\train-images-idx3-ubyte.gz to ../data\\MNIST\\raw\n",
            "\n",
            "Downloading http://yann.lecun.com/exdb/mnist/train-labels-idx1-ubyte.gz\n",
            "Downloading http://yann.lecun.com/exdb/mnist/train-labels-idx1-ubyte.gz to ../data\\MNIST\\raw\\train-labels-idx1-ubyte.gz\n"
          ]
        },
        {
          "data": {
            "application/vnd.jupyter.widget-view+json": {
              "model_id": "3d7ab54cd19645a282795a0a7d5f6bea",
              "version_major": 2,
              "version_minor": 0
            },
            "text/plain": [
              "  0%|          | 0/28881 [00:00<?, ?it/s]"
            ]
          },
          "metadata": {},
          "output_type": "display_data"
        },
        {
          "name": "stdout",
          "output_type": "stream",
          "text": [
            "Extracting ../data\\MNIST\\raw\\train-labels-idx1-ubyte.gz to ../data\\MNIST\\raw\n",
            "\n",
            "Downloading http://yann.lecun.com/exdb/mnist/t10k-images-idx3-ubyte.gz\n",
            "Downloading http://yann.lecun.com/exdb/mnist/t10k-images-idx3-ubyte.gz to ../data\\MNIST\\raw\\t10k-images-idx3-ubyte.gz\n"
          ]
        },
        {
          "data": {
            "application/vnd.jupyter.widget-view+json": {
              "model_id": "ee791bc2779247eaa854f98fd2fc2420",
              "version_major": 2,
              "version_minor": 0
            },
            "text/plain": [
              "  0%|          | 0/1648877 [00:00<?, ?it/s]"
            ]
          },
          "metadata": {},
          "output_type": "display_data"
        },
        {
          "name": "stdout",
          "output_type": "stream",
          "text": [
            "Extracting ../data\\MNIST\\raw\\t10k-images-idx3-ubyte.gz to ../data\\MNIST\\raw\n",
            "\n",
            "Downloading http://yann.lecun.com/exdb/mnist/t10k-labels-idx1-ubyte.gz\n",
            "Downloading http://yann.lecun.com/exdb/mnist/t10k-labels-idx1-ubyte.gz to ../data\\MNIST\\raw\\t10k-labels-idx1-ubyte.gz\n"
          ]
        },
        {
          "data": {
            "application/vnd.jupyter.widget-view+json": {
              "model_id": "3e40e120cbf845fda29f747f126a9189",
              "version_major": 2,
              "version_minor": 0
            },
            "text/plain": [
              "  0%|          | 0/4542 [00:00<?, ?it/s]"
            ]
          },
          "metadata": {},
          "output_type": "display_data"
        },
        {
          "name": "stdout",
          "output_type": "stream",
          "text": [
            "Extracting ../data\\MNIST\\raw\\t10k-labels-idx1-ubyte.gz to ../data\\MNIST\\raw\n",
            "\n",
            "name: conv2d_1.weight\n",
            "param: torch.Size([32, 1, 3, 3])\n",
            "name: conv2d_1.bias\n",
            "param: torch.Size([32])\n",
            "name: conv2d_2.weight\n",
            "param: torch.Size([32, 32, 3, 3])\n",
            "name: conv2d_2.bias\n",
            "param: torch.Size([32])\n",
            "name: conv2d_3.weight\n",
            "param: torch.Size([64, 32, 3, 3])\n",
            "name: conv2d_3.bias\n",
            "param: torch.Size([64])\n",
            "name: conv2d_4.weight\n",
            "param: torch.Size([64, 64, 3, 3])\n",
            "name: conv2d_4.bias\n",
            "param: torch.Size([64])\n",
            "name: dense_1.weight\n",
            "param: torch.Size([200, 1024])\n",
            "name: dense_1.bias\n",
            "param: torch.Size([200])\n",
            "name: dense_2.weight\n",
            "param: torch.Size([200, 200])\n",
            "name: dense_2.bias\n",
            "param: torch.Size([200])\n",
            "name: dense_3.weight\n",
            "param: torch.Size([10, 200])\n",
            "name: dense_3.bias\n",
            "param: torch.Size([10])\n",
            "Train Epoch: 1 [0/60000 (0%)]\tLoss: 2.304861\n",
            "Train Epoch: 1 [6400/60000 (11%)]\tLoss: 2.297174\n",
            "Train Epoch: 1 [12800/60000 (21%)]\tLoss: 2.276337\n",
            "Train Epoch: 1 [19200/60000 (32%)]\tLoss: 1.024450\n",
            "Train Epoch: 1 [25600/60000 (43%)]\tLoss: 0.439212\n",
            "Train Epoch: 1 [32000/60000 (53%)]\tLoss: 0.251902\n",
            "Train Epoch: 1 [38400/60000 (64%)]\tLoss: 0.259228\n",
            "Train Epoch: 1 [44800/60000 (75%)]\tLoss: 0.264792\n",
            "Train Epoch: 1 [51200/60000 (85%)]\tLoss: 0.367336\n",
            "Train Epoch: 1 [57600/60000 (96%)]\tLoss: 0.170404\n",
            "\n",
            "Test set: Average loss: 0.1100, Accuracy: 9662/10000 (97%)\n",
            "\n",
            "Train Epoch: 2 [0/60000 (0%)]\tLoss: 0.147688\n",
            "Train Epoch: 2 [6400/60000 (11%)]\tLoss: 0.121050\n",
            "Train Epoch: 2 [12800/60000 (21%)]\tLoss: 0.176822\n",
            "Train Epoch: 2 [19200/60000 (32%)]\tLoss: 0.157247\n",
            "Train Epoch: 2 [25600/60000 (43%)]\tLoss: 0.090826\n",
            "Train Epoch: 2 [32000/60000 (53%)]\tLoss: 0.085597\n",
            "Train Epoch: 2 [38400/60000 (64%)]\tLoss: 0.029641\n",
            "Train Epoch: 2 [44800/60000 (75%)]\tLoss: 0.169708\n",
            "Train Epoch: 2 [51200/60000 (85%)]\tLoss: 0.099593\n",
            "Train Epoch: 2 [57600/60000 (96%)]\tLoss: 0.048309\n",
            "\n",
            "Test set: Average loss: 0.0764, Accuracy: 9773/10000 (98%)\n",
            "\n",
            "Train Epoch: 3 [0/60000 (0%)]\tLoss: 0.102882\n",
            "Train Epoch: 3 [6400/60000 (11%)]\tLoss: 0.052152\n",
            "Train Epoch: 3 [12800/60000 (21%)]\tLoss: 0.094171\n",
            "Train Epoch: 3 [19200/60000 (32%)]\tLoss: 0.068876\n",
            "Train Epoch: 3 [25600/60000 (43%)]\tLoss: 0.084807\n",
            "Train Epoch: 3 [32000/60000 (53%)]\tLoss: 0.029939\n",
            "Train Epoch: 3 [38400/60000 (64%)]\tLoss: 0.123729\n",
            "Train Epoch: 3 [44800/60000 (75%)]\tLoss: 0.024436\n",
            "Train Epoch: 3 [51200/60000 (85%)]\tLoss: 0.016018\n",
            "Train Epoch: 3 [57600/60000 (96%)]\tLoss: 0.051047\n",
            "\n",
            "Test set: Average loss: 0.0547, Accuracy: 9828/10000 (98%)\n",
            "\n",
            "Train Epoch: 4 [0/60000 (0%)]\tLoss: 0.033904\n",
            "Train Epoch: 4 [6400/60000 (11%)]\tLoss: 0.013598\n",
            "Train Epoch: 4 [12800/60000 (21%)]\tLoss: 0.053715\n",
            "Train Epoch: 4 [19200/60000 (32%)]\tLoss: 0.175122\n",
            "Train Epoch: 4 [25600/60000 (43%)]\tLoss: 0.037966\n",
            "Train Epoch: 4 [32000/60000 (53%)]\tLoss: 0.104813\n",
            "Train Epoch: 4 [38400/60000 (64%)]\tLoss: 0.016470\n",
            "Train Epoch: 4 [44800/60000 (75%)]\tLoss: 0.029391\n",
            "Train Epoch: 4 [51200/60000 (85%)]\tLoss: 0.025130\n",
            "Train Epoch: 4 [57600/60000 (96%)]\tLoss: 0.073495\n",
            "\n",
            "Test set: Average loss: 0.0417, Accuracy: 9855/10000 (99%)\n",
            "\n",
            "Train Epoch: 5 [0/60000 (0%)]\tLoss: 0.026734\n",
            "Train Epoch: 5 [6400/60000 (11%)]\tLoss: 0.082649\n",
            "Train Epoch: 5 [12800/60000 (21%)]\tLoss: 0.016847\n",
            "Train Epoch: 5 [19200/60000 (32%)]\tLoss: 0.092720\n",
            "Train Epoch: 5 [25600/60000 (43%)]\tLoss: 0.031745\n",
            "Train Epoch: 5 [32000/60000 (53%)]\tLoss: 0.005397\n",
            "Train Epoch: 5 [38400/60000 (64%)]\tLoss: 0.016424\n",
            "Train Epoch: 5 [44800/60000 (75%)]\tLoss: 0.048743\n",
            "Train Epoch: 5 [51200/60000 (85%)]\tLoss: 0.017840\n",
            "Train Epoch: 5 [57600/60000 (96%)]\tLoss: 0.060206\n",
            "\n",
            "Test set: Average loss: 0.0429, Accuracy: 9872/10000 (99%)\n",
            "\n",
            "Train Epoch: 6 [0/60000 (0%)]\tLoss: 0.016687\n",
            "Train Epoch: 6 [6400/60000 (11%)]\tLoss: 0.034867\n",
            "Train Epoch: 6 [12800/60000 (21%)]\tLoss: 0.089346\n",
            "Train Epoch: 6 [19200/60000 (32%)]\tLoss: 0.015095\n",
            "Train Epoch: 6 [25600/60000 (43%)]\tLoss: 0.014635\n",
            "Train Epoch: 6 [32000/60000 (53%)]\tLoss: 0.011883\n",
            "Train Epoch: 6 [38400/60000 (64%)]\tLoss: 0.002641\n",
            "Train Epoch: 6 [44800/60000 (75%)]\tLoss: 0.051193\n",
            "Train Epoch: 6 [51200/60000 (85%)]\tLoss: 0.057323\n",
            "Train Epoch: 6 [57600/60000 (96%)]\tLoss: 0.065195\n",
            "\n",
            "Test set: Average loss: 0.0383, Accuracy: 9877/10000 (99%)\n",
            "\n",
            "Train Epoch: 7 [0/60000 (0%)]\tLoss: 0.036960\n",
            "Train Epoch: 7 [6400/60000 (11%)]\tLoss: 0.033260\n",
            "Train Epoch: 7 [12800/60000 (21%)]\tLoss: 0.061431\n",
            "Train Epoch: 7 [19200/60000 (32%)]\tLoss: 0.021969\n",
            "Train Epoch: 7 [25600/60000 (43%)]\tLoss: 0.012022\n",
            "Train Epoch: 7 [32000/60000 (53%)]\tLoss: 0.004733\n",
            "Train Epoch: 7 [38400/60000 (64%)]\tLoss: 0.077930\n",
            "Train Epoch: 7 [44800/60000 (75%)]\tLoss: 0.001951\n",
            "Train Epoch: 7 [51200/60000 (85%)]\tLoss: 0.021241\n",
            "Train Epoch: 7 [57600/60000 (96%)]\tLoss: 0.084169\n",
            "\n",
            "Test set: Average loss: 0.0343, Accuracy: 9879/10000 (99%)\n",
            "\n",
            "Train Epoch: 8 [0/60000 (0%)]\tLoss: 0.009350\n",
            "Train Epoch: 8 [6400/60000 (11%)]\tLoss: 0.020063\n",
            "Train Epoch: 8 [12800/60000 (21%)]\tLoss: 0.019306\n",
            "Train Epoch: 8 [19200/60000 (32%)]\tLoss: 0.014330\n",
            "Train Epoch: 8 [25600/60000 (43%)]\tLoss: 0.047512\n",
            "Train Epoch: 8 [32000/60000 (53%)]\tLoss: 0.044661\n",
            "Train Epoch: 8 [38400/60000 (64%)]\tLoss: 0.007928\n",
            "Train Epoch: 8 [44800/60000 (75%)]\tLoss: 0.068887\n",
            "Train Epoch: 8 [51200/60000 (85%)]\tLoss: 0.047129\n",
            "Train Epoch: 8 [57600/60000 (96%)]\tLoss: 0.009514\n",
            "\n",
            "Test set: Average loss: 0.0454, Accuracy: 9855/10000 (99%)\n",
            "\n",
            "Train Epoch: 9 [0/60000 (0%)]\tLoss: 0.020764\n",
            "Train Epoch: 9 [6400/60000 (11%)]\tLoss: 0.023582\n",
            "Train Epoch: 9 [12800/60000 (21%)]\tLoss: 0.014222\n",
            "Train Epoch: 9 [19200/60000 (32%)]\tLoss: 0.005065\n",
            "Train Epoch: 9 [25600/60000 (43%)]\tLoss: 0.018350\n",
            "Train Epoch: 9 [32000/60000 (53%)]\tLoss: 0.029419\n",
            "Train Epoch: 9 [38400/60000 (64%)]\tLoss: 0.014683\n",
            "Train Epoch: 9 [44800/60000 (75%)]\tLoss: 0.030128\n",
            "Train Epoch: 9 [51200/60000 (85%)]\tLoss: 0.014382\n",
            "Train Epoch: 9 [57600/60000 (96%)]\tLoss: 0.006936\n",
            "\n",
            "Test set: Average loss: 0.0346, Accuracy: 9884/10000 (99%)\n",
            "\n",
            "Train Epoch: 10 [0/60000 (0%)]\tLoss: 0.005726\n",
            "Train Epoch: 10 [6400/60000 (11%)]\tLoss: 0.004249\n",
            "Train Epoch: 10 [12800/60000 (21%)]\tLoss: 0.053395\n",
            "Train Epoch: 10 [19200/60000 (32%)]\tLoss: 0.005642\n",
            "Train Epoch: 10 [25600/60000 (43%)]\tLoss: 0.007442\n",
            "Train Epoch: 10 [32000/60000 (53%)]\tLoss: 0.010911\n",
            "Train Epoch: 10 [38400/60000 (64%)]\tLoss: 0.002368\n",
            "Train Epoch: 10 [44800/60000 (75%)]\tLoss: 0.004058\n",
            "Train Epoch: 10 [51200/60000 (85%)]\tLoss: 0.051805\n",
            "Train Epoch: 10 [57600/60000 (96%)]\tLoss: 0.000818\n",
            "\n",
            "Test set: Average loss: 0.0373, Accuracy: 9881/10000 (99%)\n",
            "\n"
          ]
        }
      ],
      "source": [
        "use_cuda = not args.no_cuda and torch.cuda.is_available()\n",
        "\n",
        "torch.manual_seed(args.seed)\n",
        "\n",
        "device = torch.device(\"cuda\" if use_cuda else \"cpu\")\n",
        "\n",
        "kwargs = {'num_workers': 1, 'pin_memory': True} if use_cuda else {}\n",
        "train_loader = torch.utils.data.DataLoader(\n",
        "\tdatasets.MNIST('../data', train=True, download=True,\n",
        "\t\t\t\t   transform=transforms.Compose([\n",
        "\t\t\t\t\t   transforms.ToTensor(),\n",
        "\t\t\t\t\t   transforms.Normalize((0.1307,), (0.3081,))\n",
        "\t\t\t\t   ])),\n",
        "\tbatch_size=args.batch_size, shuffle=True, **kwargs)\n",
        "test_loader = torch.utils.data.DataLoader(\n",
        "\tdatasets.MNIST('../data', train=False, transform=transforms.Compose([\n",
        "\t\ttransforms.ToTensor(),\n",
        "\t\ttransforms.Normalize((0.1307,), (0.3081,))\n",
        "\t])),\n",
        "\tbatch_size=args.test_batch_size, shuffle=True, **kwargs)\n",
        "if args.load_keras:\n",
        "\tmodel = pytorch_keras_Net.to(device)\n",
        "\tmodel.load_state_dict(torch.load(\"pyt_model.pt\"))\n",
        "else:\n",
        "\tmodel = pytorch_Net().to(device)\n",
        "# model.load_state_dict(torch.load(\"mnist_cnn.pt\"))\n",
        "for name, param in model.named_parameters():\n",
        "\tprint(\"name:\", name)\n",
        "\tprint(\"param:\", param.shape)\n",
        "\n",
        "\n",
        "optimizer = optim.SGD(model.parameters(), lr=args.lr, momentum=args.momentum)\n",
        "\n",
        "for epoch in range(1, args.epochs + 1):\n",
        "\ttrain(args, model, device, train_loader, optimizer, epoch)\n",
        "\ttest(args, model, device, test_loader)\n",
        "\n",
        "if (args.save_model):\n",
        "\ttorch.save(model.state_dict(), \"mnist_cnn.pt\")"
      ]
    },
    {
      "cell_type": "code",
      "execution_count": null,
      "metadata": {
        "colab": {},
        "colab_type": "code",
        "id": "bs8_TsV9Iqc3"
      },
      "outputs": [],
      "source": []
    }
  ],
  "metadata": {
    "colab": {
      "include_colab_link": true,
      "name": "MNIST+Densnet.ipynb",
      "provenance": []
    },
    "kernelspec": {
      "display_name": "Python 3.9.13 ('base')",
      "language": "python",
      "name": "python3"
    },
    "language_info": {
      "codemirror_mode": {
        "name": "ipython",
        "version": 3
      },
      "file_extension": ".py",
      "mimetype": "text/x-python",
      "name": "python",
      "nbconvert_exporter": "python",
      "pygments_lexer": "ipython3",
      "version": "3.9.13"
    },
    "vscode": {
      "interpreter": {
        "hash": "e42634819b8c191a5d07eaf23810ff32516dd8d3875f28ec3e488928fbd3c187"
      }
    }
  },
  "nbformat": 4,
  "nbformat_minor": 0
}
