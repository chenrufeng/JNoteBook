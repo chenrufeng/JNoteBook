{
 "cells": [
  {
   "cell_type": "markdown",
   "metadata": {},
   "source": [
    "#《PyTorch深度学习实践》完结合集\n",
    "\n",
    "`\n",
    "https://www.bilibili.com/video/BV1Y7411d7Ys?p=9&vd_source=1e395a38862b4931fcb8904d5422cf65\n",
    "`"
   ]
  },
  {
   "cell_type": "markdown",
   "metadata": {},
   "source": [
    "# TensorBoard"
   ]
  },
  {
   "cell_type": "code",
   "execution_count": 65,
   "metadata": {},
   "outputs": [
    {
     "name": "stderr",
     "output_type": "stream",
     "text": [
      "C:\\Users\\Administrator\\AppData\\Local\\Temp\\ipykernel_10276\\1296840023.py:6: RuntimeWarning: divide by zero encountered in log\n",
      "  writer.add_scalar(\"y=log(x)3\",  np.log(i), i)\n"
     ]
    }
   ],
   "source": [
    "from torch.utils.tensorboard import SummaryWriter\n",
    "import numpy as np\n",
    "\n",
    "writer = SummaryWriter(\"logs\")\n",
    "for i in np.linspace(0.0, 1.0, 100):\n",
    "    writer.add_scalar(\"y=log(x)3\",  np.log(i), i)\n",
    "writer.close()\n"
   ]
  },
  {
   "cell_type": "markdown",
   "metadata": {},
   "source": [
    "# 反向传播"
   ]
  },
  {
   "cell_type": "code",
   "execution_count": null,
   "metadata": {},
   "outputs": [],
   "source": [
    "import torch\n",
    "import numpy as np\n",
    "import matplotlib.pyplot as plt\n",
    "\n",
    "x_data = [i + 1.0 for i in range(3)]\n",
    "y_data = [ 2*(i+1.0) for i in range(3)]\n",
    "\n",
    "w = torch.Tensor([1.0])\n",
    "w.requires_grad = True\n",
    "\n",
    "def forward(x):\n",
    "    return x * w\n",
    "def loss(x, y):\n",
    "    y_pred = forward(x)\n",
    "    return (y_pred - y) ** 2\n",
    "\n",
    "\n",
    "for epoch in range (100):\n",
    "    for x, y in zip(x_data, y_data):\n",
    "        l = loss(x, y)\n",
    "        l.backward()\n",
    "        print (l, x, y, w.grad)\n",
    "        w.data = w.data - 0.01 * w.grad.item()\n",
    "        w.grad.zero_()\n",
    "\n",
    "forward(23)"
   ]
  },
  {
   "cell_type": "markdown",
   "metadata": {},
   "source": [
    "# 基本模型\n",
    "以及tensor变量\n",
    "```\n",
    "import torch\n",
    "\n",
    "tensor = torch.reshape(torch.arange(1, 4, 1, dtype=torch.float32) * 2, (-1, 1))\n",
    "# tensor = torch.Tensor([[1.0]])\n",
    "\n",
    "print(f\"Shape of tensor: {tensor.shape}\")\n",
    "print(f\"Datatype of tensor: {tensor.dtype}\")\n",
    "print(f\"Device tensor is stored on: {tensor.device}\")\n",
    "```"
   ]
  },
  {
   "cell_type": "code",
   "execution_count": null,
   "metadata": {},
   "outputs": [],
   "source": [
    "import torch\n",
    "import numpy as np\n",
    "import matplotlib.pyplot as plt\n",
    "\n",
    "\n",
    "x_data = torch.reshape(torch.arange(1, 4, 1,dtype=torch.float32), (-1, 1))\n",
    "y_data = torch.reshape(torch.arange(1, 4, 1,dtype=torch.float32) * 2, (-1, 1))\n",
    "# x_data = torch.Tensor([[1.0],[2.0],[3.0]])\n",
    "# y_data = torch.Tensor([[1.0],[4.0],[6.0]])\n",
    "\n",
    "class LinearModel(torch.nn.Module):\n",
    "    def __init__(self) -> None:\n",
    "        super(LinearModel, self).__init__()\n",
    "        self.linear = torch.nn.Linear(1,1)\n",
    "    def forward(self, x):\n",
    "        return self.linear(x)\n",
    "\n",
    "model =  LinearModel()\n",
    "print(model)\n",
    "criterion = torch.nn.MSELoss(size_average=False)\n",
    "optimizer = torch.optim.SGD(model.parameters(), lr=0.001)\n",
    "\n",
    "for epoch in range (100):\n",
    "    y_pred = model(x_data)\n",
    "    loss = criterion(y_pred, y_data)\n",
    "    print(epoch, loss)\n",
    "\n",
    "    optimizer.zero_grad()\n",
    "    loss.backward()\n",
    "    optimizer.step()\n",
    "\n",
    "model(torch.Tensor([[2.0]])) # 乘2运算"
   ]
  },
  {
   "cell_type": "markdown",
   "metadata": {},
   "source": [
    "# 分类函数\n",
    "$loss = -(ylog \\hat y + (1-y)log(1 - \\hat y))$\n",
    "\n",
    "当$\\hat y$ 是1时， loss函数即为$ -(1-y)log(0.0) $\n",
    "\n",
    "当$\\hat y$ 是0时， loss函数即为$ -(y) $"
   ]
  },
  {
   "cell_type": "code",
   "execution_count": null,
   "metadata": {},
   "outputs": [],
   "source": [
    "import torch\n",
    "import numpy as np\n",
    "import torch.nn.functional as F\n",
    "import matplotlib.pyplot as plt\n",
    "\n",
    "\n",
    "x_data = torch.reshape(torch.arange(1, 4, 1,dtype=torch.float32), (-1, 1)) # 第1维就是批随意大小\n",
    "# y_data = torch.reshape(torch.arange(1, 4, 1,dtype=torch.float32) * 2, (-1, 1))\n",
    "# x_data = torch.Tensor([[1.0],[2.0],[3.0]])\n",
    "y_data = torch.Tensor([[0.0],[0.0],[1.0]])\n",
    "\n",
    "class LinearModel(torch.nn.Module):\n",
    "    def __init__(self) -> None:\n",
    "        super(LinearModel, self).__init__()\n",
    "        self.linear = torch.nn.Linear(1,3) # 直接就是批运算， 第一维度指定输入数据的元素个数与形状\n",
    "        self.linear2 = torch.nn.Linear(3,1)\n",
    "    def forward(self, x):\n",
    "        return F.sigmoid( self.linear2(self.linear(x)) )\n",
    "\n",
    "model =  LinearModel()\n",
    "print(model)\n",
    "criterion = torch.nn.BCELoss(size_average=False)\n",
    "optimizer = torch.optim.SGD(model.parameters(), lr=0.01)\n",
    "\n",
    "for epoch in range (10000):\n",
    "    y_pred = model(x_data)  # 直接就是批运算\n",
    "    loss = criterion(y_pred, y_data)\n",
    "    print(epoch, loss)\n",
    "\n",
    "    optimizer.zero_grad()\n",
    "    loss.backward()\n",
    "    optimizer.step()\n",
    "model(torch.Tensor([[1.0],[2.0],[3.0]])) # 作分类"
   ]
  },
  {
   "cell_type": "markdown",
   "metadata": {},
   "source": [
    "# 多维数据处理"
   ]
  },
  {
   "cell_type": "code",
   "execution_count": 83,
   "metadata": {},
   "outputs": [],
   "source": [
    "import pandas as pd\n",
    "#  任意多维数组\n",
    "a = [1,2,3]\n",
    "b = [2,4,2]\n",
    "c = [3,6,5]\n",
    "# 字典中的key值即为CSV中的列表\n",
    "dataframe = pd.DataFrame({'a_name':a, 'b_name':b, 'c_name':c})\n",
    "# 是否要补充行序号,是否需要压缩\n",
    "# dataframe.to_csv(\"test.csv.gz\", index=False, sep=',',compression='gzip')\n",
    "dataframe.to_csv(\"test.csv\", index=False, sep=',')"
   ]
  },
  {
   "cell_type": "code",
   "execution_count": null,
   "metadata": {},
   "outputs": [],
   "source": [
    "import numpy as np\n",
    "import torch\n",
    "xy = np.loadtxt('test.csv', delimiter=',', dtype=np.float32, skiprows=1)\n",
    "x_data = torch.from_numpy(xy[:,:-1])\n",
    "y_data = torch.from_numpy(xy[:, [-1]])\n",
    "print(xy, x_data, y_data) # 3个样本，3个输出\n",
    "\n",
    "class LinearModel(torch.nn.Module):\n",
    "    def __init__(self) -> None:\n",
    "        super(LinearModel, self).__init__()\n",
    "        self.linear = torch.nn.Linear(2,3) # 输入两个元素，输出3个元素\n",
    "        self.linear2 = torch.nn.Linear(3,1) # 输入3个元素，输出1个元素\n",
    "    def forward(self, x):\n",
    "        return self.linear2(self.linear(x))\n",
    "\n",
    "model =  LinearModel()\n",
    "print(model)\n",
    "criterion = torch.nn.MSELoss(size_average=False)\n",
    "optimizer = torch.optim.SGD(model.parameters(), lr=0.01)\n",
    "\n",
    "for epoch in range (10000):\n",
    "    y_pred = model(x_data)  # 直接就是批运算\n",
    "    loss = criterion(y_pred, y_data)\n",
    "    print(epoch, loss)\n",
    "\n",
    "    optimizer.zero_grad()\n",
    "    loss.backward()\n",
    "    optimizer.step()\n",
    "model(torch.Tensor([[1.0, 4.0],[2.0,4.0],[3.0,4.0]])) # 做加法"
   ]
  },
  {
   "cell_type": "markdown",
   "metadata": {},
   "source": [
    "# 实现数据集epoch与mini-batch训练"
   ]
  },
  {
   "cell_type": "code",
   "execution_count": null,
   "metadata": {},
   "outputs": [],
   "source": [
    "import pandas as pd\n",
    "#  任意多维数组\n",
    "a = [np.random.randint(1, 13) for i in range(100)]\n",
    "b = [np.random.randint(1, 13) for i in range(100)]\n",
    "c = np.add(a,b)\n",
    "# 字典中的key值即为CSV中的列表\n",
    "dataframe = pd.DataFrame({'a_name':a, 'b_name':b, 'c_name':c})\n",
    "# 是否要补充行序号,是否需要压缩\n",
    "# dataframe.to_csv(\"test.csv.gz\", index=False, sep=',',compression='gzip')\n",
    "dataframe.to_csv(\"batch.csv\", index=False, sep=',')\n"
   ]
  },
  {
   "cell_type": "code",
   "execution_count": null,
   "metadata": {},
   "outputs": [],
   "source": [
    "import numpy as np\n",
    "import torch\n",
    "from torch.utils.data import Dataset,DataLoader\n",
    "# 制作数据集\n",
    "class MyData(Dataset):\n",
    "    def __init__(self, root_dir, label_dir):\n",
    "        xy = np.loadtxt('batch.csv', delimiter=',', dtype=np.float32, skiprows=1)\n",
    "        self.x_data = torch.from_numpy(xy[:,:-1])\n",
    "        self.y_data = torch.from_numpy(xy[:, [-1]])\n",
    "        self.len = xy.shape[0]\n",
    "        return\n",
    "    def __getitem__(self, idx): # 取某一条数据\n",
    "        return self.x_data[idx], self.y_data[idx]\n",
    "    def __len__(self):\n",
    "        return self.len\n",
    "\n",
    "dataset = MyData(\"\",\"\")\n",
    "# 指定一次取一批数据，同时shuffle并可以并发取\n",
    "train_loader = DataLoader(dataset=dataset, batch_size=32, shuffle=True)\n",
    "\n",
    "class LinearModel(torch.nn.Module):\n",
    "    def __init__(self) -> None:\n",
    "        super(LinearModel, self).__init__()\n",
    "        self.linear = torch.nn.Linear(2,5) # 输入两个元素，输出3个元素\n",
    "        self.linear2 = torch.nn.Linear(5,1) # 输入3个元素，输出1个元素\n",
    "    def forward(self, x):\n",
    "        return self.linear2(self.linear(x))\n",
    "\n",
    "model =  LinearModel()\n",
    "print(model)\n",
    "criterion = torch.nn.MSELoss(size_average=False)\n",
    "optimizer = torch.optim.SGD(model.parameters(), lr=0.00001)\n",
    "\n",
    "for epoch in range (100):\n",
    "    for i, data in enumerate(train_loader):\n",
    "        # 1. prepare data\n",
    "        inputs, lables = data\n",
    "        # 2. forward\n",
    "        y_pred = model(inputs)\n",
    "        loss = criterion(y_pred, lables)\n",
    "        print(epoch, i, loss.item())\n",
    "        # 3.backward\n",
    "        optimizer.zero_grad()\n",
    "        loss.backward()\n",
    "        # 4. update\n",
    "        optimizer.step()\n",
    "\n",
    "model(torch.Tensor([[1.0, 4.0],[2.0,4.0],[3.0,4.0]])) # 做加法\n"
   ]
  },
  {
   "cell_type": "markdown",
   "metadata": {},
   "source": [
    "# 多分类问题\n",
    "一次是输入多个样本的， 一次输出多分类值。使用交叉熵\n",
    "交叉熵 $(P, Q) = - \\sum P(i) log_2 Q(i) $\n",
    "\n",
    "| animal | dog       | chicken   | bird      | fox       |\n",
    "| ------ | --------- | --------- | --------- | --------- |\n",
    "| label  | [1,0,0,0] | [0,1,0,0] | [0,0,1,0] | [0,0,0,1] |\n",
    "\n",
    "对于同一张狗照片，机器预测结果ans1和ans2分别是[0.4, 0.3, 0.1, 0.1],[0.98, 0.01,0,0.01]\n",
    "\n",
    "分别用交叉熵计算结果为$(P_1, Q_1) = - \\sum P_1(i) log_2 Q_1(i) = -(1log0.4 + 0log0.3 + 0log0.1 + 0log0.1 = -log0.4) $\n",
    "\n",
    "分别用交叉熵计算结果为$(P_1, Q_2) = - \\sum P_1(i) log_2 Q_1(i) = -(1log0.98 + 0log0.01 + 0log0 + 0log0.01 \\approx 0) $\n",
    "\n"
   ]
  },
  {
   "cell_type": "code",
   "execution_count": 121,
   "metadata": {},
   "outputs": [
    {
     "name": "stdout",
     "output_type": "stream",
     "text": [
      "Batch loss1 =  tensor(0.4966) \n",
      " Batch loss2 =  tensor(1.2389)\n"
     ]
    }
   ],
   "source": [
    "import torch\n",
    "criterion = torch.nn.CrossEntropyLoss()\n",
    "labels = torch.LongTensor([2, 0, 1]) # 注意pytorch这里需要用LongTensor, 这里是选择器\n",
    "y_pred1 = torch.Tensor([[0.1,0.2,0.9],  # 2\n",
    "                        [1.1,0.1,0.2],  # 0\n",
    "                        [0.2,2.1,0.1]]) # 1\n",
    "y_pred2 = torch.Tensor([[0.8,0.2,0.3],  # 2\n",
    "                        [0.2,0.3,0.5],  # 0\n",
    "                        [0.2,0.2,0.5]]) # 1\n",
    "\n",
    "l1 = criterion(y_pred1, labels)\n",
    "l2 = criterion(y_pred2, labels)\n",
    "print(\"Batch loss1 = \", l1.data, \"\\n Batch loss2 = \", l2.data)"
   ]
  },
  {
   "cell_type": "code",
   "execution_count": null,
   "metadata": {},
   "outputs": [],
   "source": []
  },
  {
   "cell_type": "code",
   "execution_count": null,
   "metadata": {},
   "outputs": [],
   "source": []
  }
 ],
 "metadata": {
  "kernelspec": {
   "display_name": "Python 3.10.9 64-bit",
   "language": "python",
   "name": "python3"
  },
  "language_info": {
   "codemirror_mode": {
    "name": "ipython",
    "version": 3
   },
   "file_extension": ".py",
   "mimetype": "text/x-python",
   "name": "python",
   "nbconvert_exporter": "python",
   "pygments_lexer": "ipython3",
   "version": "3.10.9"
  },
  "orig_nbformat": 4,
  "vscode": {
   "interpreter": {
    "hash": "d99a3f7b344b3c3107482760db15f42178bfad658d282ab0a919b76809e13cb5"
   }
  }
 },
 "nbformat": 4,
 "nbformat_minor": 2
}
