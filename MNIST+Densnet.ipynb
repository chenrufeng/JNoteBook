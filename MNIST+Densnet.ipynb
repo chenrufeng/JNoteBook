{
  "nbformat": 4,
  "nbformat_minor": 0,
  "metadata": {
    "kernelspec": {
      "name": "python3",
      "display_name": "Python 3"
    },
    "colab": {
      "name": "MNIST+Densnet.ipynb",
      "provenance": [],
      "include_colab_link": true
    }
  },
  "cells": [
    {
      "cell_type": "markdown",
      "metadata": {
        "id": "view-in-github",
        "colab_type": "text"
      },
      "source": [
        "<a href=\"https://colab.research.google.com/github/chenrufeng/JNoteBook/blob/master/MNIST%2BDensnet.ipynb\" target=\"_parent\"><img src=\"https://colab.research.google.com/assets/colab-badge.svg\" alt=\"Open In Colab\"/></a>"
      ]
    },
    {
      "cell_type": "code",
      "metadata": {
        "id": "UShNtltrLVby",
        "colab_type": "code",
        "colab": {}
      },
      "source": [
        "from __future__ import print_function\n",
        "import argparse\n",
        "import torch\n",
        "import torch.nn as nn\n",
        "import torch.nn.functional as F\n",
        "import torch.optim as optim\n",
        "from torchvision import datasets, transforms"
      ],
      "execution_count": null,
      "outputs": []
    },
    {
      "cell_type": "code",
      "metadata": {
        "id": "uhdHna0sLYQh",
        "colab_type": "code",
        "colab": {}
      },
      "source": [
        "class pytorch_Net(nn.Module):\n",
        "    def __init__(self):\n",
        "        super(pytorch_Net, self).__init__()\n",
        "        self.num_channels = 1\n",
        "        self.image_size = 28\n",
        "        self.num_labels = 10\n",
        "        self.conv2d_1 = nn.Conv2d(1, 32, 3, 1)\n",
        "        self.conv2d_2 = nn.Conv2d(32, 32, 3, 1)\n",
        "        self.conv2d_3 = nn.Conv2d(32, 64, 3, 1)\n",
        "        self.conv2d_4 = nn.Conv2d(64, 64, 3, 1)\n",
        "\n",
        "        self.dense_1 = nn.Linear(4 * 4 * 64, 200)\n",
        "        self.dense_2 = nn.Linear(200, 200)\n",
        "        self.dense_3 = nn.Linear(200, 10)\n",
        "\n",
        "\n",
        "    def forward(self, x):\n",
        "        x = F.relu(self.conv2d_1(x))\n",
        "        x = F.relu(self.conv2d_2(x))\n",
        "        x = F.max_pool2d(x, 2, 2)\n",
        "        x = F.relu(self.conv2d_3(x))\n",
        "        x = F.relu(self.conv2d_4(x))\n",
        "        x = F.max_pool2d(x, 2, 2)\n",
        "        x = x.permute((0, 2, 3, 1))\n",
        "\n",
        "        x = x.contiguous().view(-1, 4 * 4 * 64)\n",
        "        x = x.view(-1, 4 * 4 * 64)\n",
        "        x = F.relu(self.dense_1(x))\n",
        "        x = F.relu(self.dense_2(x))\n",
        "        x = self.dense_3(x)\n",
        "        return F.log_softmax(x, dim=1)"
      ],
      "execution_count": null,
      "outputs": []
    },
    {
      "cell_type": "code",
      "metadata": {
        "id": "rl6D9xgILb6y",
        "colab_type": "code",
        "colab": {}
      },
      "source": [
        "class pytorch_keras_Net(nn.Module):\n",
        "    def __init__(self):\n",
        "        super(pytorch_keras_Net, self).__init__()\n",
        "        self.num_channels = 1\n",
        "        self.image_size = 28\n",
        "        self.num_labels = 10\n",
        "        self.conv2d_1 = nn.Conv2d(1, 32, 3, 1)\n",
        "        self.conv2d_2 = nn.Conv2d(32, 32, 3, 1)\n",
        "        self.conv2d_3 = nn.Conv2d(32, 64, 3, 1)\n",
        "        self.conv2d_4 = nn.Conv2d(64, 64, 3, 1)\n",
        "\n",
        "        self.dense_1 = nn.Linear(4 * 4 * 64, 200)\n",
        "        self.dense_2 = nn.Linear(200, 200)\n",
        "        self.dense_3 = nn.Linear(200, 10)\n",
        "\n",
        "\n",
        "    def forward(self, x):\n",
        "        x = F.relu(self.conv2d_1(x))\n",
        "        x = F.relu(self.conv2d_2(x))\n",
        "        x = F.max_pool2d(x, 2, 2)\n",
        "        x = F.relu(self.conv2d_3(x))\n",
        "        x = F.relu(self.conv2d_4(x))\n",
        "        x = F.max_pool2d(x, 2, 2)\n",
        "        x = x.permute((0, 2, 3, 1))\n",
        "\n",
        "        x = x.contiguous().view(-1, 4 * 4 * 64)\n",
        "        x = x.view(-1, 4 * 4 * 64)\n",
        "        x = F.relu(self.dense_1(x))\n",
        "        x = F.relu(self.dense_2(x))\n",
        "        x = self.dense_3(x)\n",
        "        return F.log_softmax(x, dim=1)"
      ],
      "execution_count": null,
      "outputs": []
    },
    {
      "cell_type": "code",
      "metadata": {
        "id": "906PrhldLjfR",
        "colab_type": "code",
        "colab": {}
      },
      "source": [
        "def test(args, model, device, test_loader):\n",
        "    model.eval()\n",
        "    test_loss = 0\n",
        "    correct = 0\n",
        "    with torch.no_grad():\n",
        "        for data, target in test_loader:\n",
        "            data, target = data.to(device), target.to(device)\n",
        "            # print(\"______data.shape:\", data.shape)\n",
        "            output = model(data)\n",
        "            test_loss += F.nll_loss(output, target, reduction='sum').item()  # sum up batch loss\n",
        "            pred = output.argmax(dim=1, keepdim=True)  # get the index of the max log-probability\n",
        "            correct += pred.eq(target.view_as(pred)).sum().item()\n",
        "\n",
        "    test_loss /= len(test_loader.dataset)\n",
        "\n",
        "    print('\\nTest set: Average loss: {:.4f}, Accuracy: {}/{} ({:.0f}%)\\n'.format(\n",
        "        test_loss, correct, len(test_loader.dataset),\n",
        "        100. * correct / len(test_loader.dataset)))"
      ],
      "execution_count": null,
      "outputs": []
    },
    {
      "cell_type": "code",
      "metadata": {
        "id": "i5MgZ7zhLgCR",
        "colab_type": "code",
        "colab": {}
      },
      "source": [
        "def train(args, model, device, train_loader, optimizer, epoch):\n",
        "    model.train()\n",
        "    for batch_idx, (data, target) in enumerate(train_loader):\n",
        "        data, target = data.to(device), target.to(device)\n",
        "        optimizer.zero_grad()\n",
        "        output = model(data)\n",
        "        loss = F.nll_loss(output, target)\n",
        "        loss.backward()\n",
        "        optimizer.step()\n",
        "        if batch_idx % args.log_interval == 0:\n",
        "            print('Train Epoch: {} [{}/{} ({:.0f}%)]\\tLoss: {:.6f}'.format(\n",
        "                epoch, batch_idx * len(data), len(train_loader.dataset),\n",
        "                       100. * batch_idx / len(train_loader), loss.item()))"
      ],
      "execution_count": null,
      "outputs": []
    },
    {
      "cell_type": "code",
      "metadata": {
        "id": "uMzmtuLnMoRD",
        "colab_type": "code",
        "colab": {
          "base_uri": "https://localhost:8080/",
          "height": 53
        },
        "outputId": "cf15978f-e9c4-4e4b-ec1b-50bcd9700c4d"
      },
      "source": [
        "class args:\n",
        "\tload_keras= False\n",
        "\tbatch_size=64\n",
        "\ttest_batch_size=1000\n",
        "\tepochs=10\n",
        "\tlr=0.01\n",
        "\tmomentum=0.5\n",
        "\tno_cuda=False\n",
        "\tseed=1\n",
        "\tlog_interval=100\n",
        "\tsave_model=True\n",
        "print(args)\n",
        "print(args.no_cuda)"
      ],
      "execution_count": null,
      "outputs": [
        {
          "output_type": "stream",
          "text": [
            "<class '__main__.args'>\n",
            "False\n"
          ],
          "name": "stdout"
        }
      ]
    },
    {
      "cell_type": "code",
      "metadata": {
        "id": "Rs4fMrEPLUKE",
        "colab_type": "code",
        "colab": {
          "base_uri": "https://localhost:8080/",
          "height": 593
        },
        "outputId": "01cbe48e-a7ce-4501-8341-47df3ccb5586"
      },
      "source": [
        "use_cuda = not args.no_cuda and torch.cuda.is_available()\n",
        "\n",
        "torch.manual_seed(args.seed)\n",
        "\n",
        "device = torch.device(\"cuda\" if use_cuda else \"cpu\")\n",
        "\n",
        "kwargs = {'num_workers': 1, 'pin_memory': True} if use_cuda else {}\n",
        "train_loader = torch.utils.data.DataLoader(\n",
        "\tdatasets.MNIST('../data', train=True, download=True,\n",
        "\t\t\t\t   transform=transforms.Compose([\n",
        "\t\t\t\t\t   transforms.ToTensor(),\n",
        "\t\t\t\t\t   transforms.Normalize((0.1307,), (0.3081,))\n",
        "\t\t\t\t   ])),\n",
        "\tbatch_size=args.batch_size, shuffle=True, **kwargs)\n",
        "test_loader = torch.utils.data.DataLoader(\n",
        "\tdatasets.MNIST('../data', train=False, transform=transforms.Compose([\n",
        "\t\ttransforms.ToTensor(),\n",
        "\t\ttransforms.Normalize((0.1307,), (0.3081,))\n",
        "\t])),\n",
        "\tbatch_size=args.test_batch_size, shuffle=True, **kwargs)\n",
        "if args.load_keras:\n",
        "\tmodel = pytorch_keras_Net.to(device)\n",
        "\tmodel.load_state_dict(torch.load(\"pyt_model.pt\"))\n",
        "else:\n",
        "\tmodel = pytorch_Net().to(device)\n",
        "# model.load_state_dict(torch.load(\"mnist_cnn.pt\"))\n",
        "for name, param in model.named_parameters():\n",
        "\tprint(\"name:\", name)\n",
        "\tprint(\"param:\", param.shape)\n",
        "\n",
        "\n",
        "optimizer = optim.SGD(model.parameters(), lr=args.lr, momentum=args.momentum)\n",
        "\n",
        "for epoch in range(1, args.epochs + 1):\n",
        "\ttrain(args, model, device, train_loader, optimizer, epoch)\n",
        "\ttest(args, model, device, test_loader)\n",
        "\n",
        "if (args.save_model):\n",
        "\ttorch.save(model.state_dict(), \"mnist_cnn.pt\")"
      ],
      "execution_count": null,
      "outputs": [
        {
          "output_type": "stream",
          "text": [
            "name: conv2d_1.weight\n",
            "param: torch.Size([32, 1, 3, 3])\n",
            "name: conv2d_1.bias\n",
            "param: torch.Size([32])\n",
            "name: conv2d_2.weight\n",
            "param: torch.Size([32, 32, 3, 3])\n",
            "name: conv2d_2.bias\n",
            "param: torch.Size([32])\n",
            "name: conv2d_3.weight\n",
            "param: torch.Size([64, 32, 3, 3])\n",
            "name: conv2d_3.bias\n",
            "param: torch.Size([64])\n",
            "name: conv2d_4.weight\n",
            "param: torch.Size([64, 64, 3, 3])\n",
            "name: conv2d_4.bias\n",
            "param: torch.Size([64])\n",
            "name: dense_1.weight\n",
            "param: torch.Size([200, 1024])\n",
            "name: dense_1.bias\n",
            "param: torch.Size([200])\n",
            "name: dense_2.weight\n",
            "param: torch.Size([200, 200])\n",
            "name: dense_2.bias\n",
            "param: torch.Size([200])\n",
            "name: dense_3.weight\n",
            "param: torch.Size([10, 200])\n",
            "name: dense_3.bias\n",
            "param: torch.Size([10])\n",
            "Train Epoch: 1 [0/60000 (0%)]\tLoss: 2.303075\n",
            "Train Epoch: 1 [6400/60000 (11%)]\tLoss: 2.299266\n",
            "Train Epoch: 1 [12800/60000 (21%)]\tLoss: 2.284276\n",
            "Train Epoch: 1 [19200/60000 (32%)]\tLoss: 1.086459\n"
          ],
          "name": "stdout"
        }
      ]
    },
    {
      "cell_type": "code",
      "metadata": {
        "id": "bs8_TsV9Iqc3",
        "colab_type": "code",
        "colab": {}
      },
      "source": [
        ""
      ],
      "execution_count": null,
      "outputs": []
    }
  ]
}